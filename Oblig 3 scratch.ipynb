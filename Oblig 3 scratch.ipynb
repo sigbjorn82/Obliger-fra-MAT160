{
 "cells": [
  {
   "cell_type": "code",
   "execution_count": 1,
   "id": "522bed43",
   "metadata": {},
   "outputs": [],
   "source": [
    "#Libraries:\n",
    "import numpy as np\n",
    "from numpy.linalg import inv\n",
    "from numpy.linalg import norm\n",
    "from numpy.linalg import eigvals\n",
    "import pandas as pd\n",
    "import scipy.sparse as sp\n",
    "import matplotlib.pyplot as plt"
   ]
  },
  {
   "cell_type": "code",
   "execution_count": 2,
   "id": "3b6cb6b8",
   "metadata": {},
   "outputs": [],
   "source": [
    "#Solvers:\n",
    "def backU(U,b,N):\n",
    "    '''Takes in triangular matrix U, vector b and dimention of matrix n\n",
    "    computes x from matrix equation Ax=b troughout nested backsubstitution'''\n",
    "\n",
    "    x_computed = np.zeros(N)\n",
    "    for i in range(N - 1, -1, -1):                  # itererer over matrisen vertikalt\n",
    "        x_tmp = b[i]                                # henter ut siste kjente x\n",
    "\n",
    "        for j in range(N - 1, i, -1):               # iterer over kollonene for neste x gitt x_temp = kollonens b\n",
    "            x_tmp =x_tmp - x_computed[j] * U[i, j]  # beregner neste x\n",
    "\n",
    "        x_computed[i] = x_tmp / U[i, i]\n",
    "    return x_computed\n",
    "\n",
    "\n",
    "\n",
    "\n",
    "\n",
    "def jacobi(A, x, b, n, tol=0.5e-15):\n",
    "    '''Takes in matrix A, initial guess vector x and result vector b from equation Ax=b, and \n",
    "    number of max iterations n diagonalise matrix and conducts Jacobi method. \n",
    "    Returnes pandas dataframe with approximated x (X_c), norm of x (x_norm) and error_norm (e_norm)'''\n",
    "    \n",
    "    D =  np.diag(np.diag(A))\n",
    "    U = np.triu(A)-D\n",
    "    L = np.tril(A)-D\n",
    "    LU = L+U\n",
    "    \n",
    "    x_iter = []    \n",
    "    e_norm = []\n",
    "    x_norm = []\n",
    "    e = np.inf\n",
    "    for i in range(n):\n",
    "        if e <= tol:\n",
    "            break\n",
    "        x = np.dot(inv(D), (b - np.dot(LU,x)))\n",
    "        x_iter.append(x)\n",
    "        e = norm(abs(np.dot(A,x)-b), np.inf)\n",
    "        e_norm.append(e)\n",
    "        x_norm.append(norm(x, np.inf))\n",
    "        \n",
    "    df = pd.DataFrame({'X_c': x_iter, 'e_norm': e_norm, 'x_norm': x_norm})\n",
    "    return df\n",
    "\n",
    "\n",
    "\n",
    "def gaus_seidel_backsub(A, x, b, n, tol=0.5e-15):\n",
    "    '''Takes in matrix A, initial guess vector x and result vector b from equation Ax=b, and \n",
    "    number of max iterations n diagonalise matrix and conducts Gaus-Seidell itteration method. \n",
    "    Returnes pandas dataframe with approximated x (X_c), norm of x (x_norm) and error_norm (e_norm)'''\n",
    "    \n",
    "    D =  np.diag(np.diag(A))\n",
    "    U = np.triu(A)\n",
    "    L = np.tril(A)-D\n",
    "    x_iter = []\n",
    "    x_norm = []\n",
    "    e_norm = []\n",
    "    e=np.inf\n",
    "    \n",
    "    for i in range(n):\n",
    "        if e <= tol:\n",
    "            break\n",
    "        x_new = backU(U= U, b= (b-np.dot(L,x)), N= A.shape[0])\n",
    "        x_iter.append(x_new)\n",
    "        x = x_new\n",
    "        e = norm(abs(np.dot(A,x_new)-b), np.inf)        \n",
    "        e_norm.append(e)\n",
    "        x_norm.append(norm(x_new, np.inf))\n",
    "\n",
    "        \n",
    "    df = pd.DataFrame({'X_c': x_iter, 'e_norm': e_norm, 'x_norm': x_norm})\n",
    "    return df\n"
   ]
  },
  {
   "cell_type": "code",
   "execution_count": 3,
   "id": "1458644e",
   "metadata": {},
   "outputs": [
    {
     "ename": "NameError",
     "evalue": "name 'np' is not defined",
     "output_type": "error",
     "traceback": [
      "\u001b[0;31m---------------------------------------------------------------------------\u001b[0m",
      "\u001b[0;31mNameError\u001b[0m                                 Traceback (most recent call last)",
      "Input \u001b[0;32mIn [3]\u001b[0m, in \u001b[0;36m<cell line: 2>\u001b[0;34m()\u001b[0m\n\u001b[1;32m      1\u001b[0m \u001b[38;5;66;03m#Convergence test and input data:\u001b[39;00m\n\u001b[0;32m----> 2\u001b[0m A\u001b[38;5;241m=\u001b[39m\u001b[43mnp\u001b[49m\u001b[38;5;241m.\u001b[39marray([[\u001b[38;5;241m9\u001b[39m,\u001b[38;5;241m9\u001b[39m,\u001b[38;5;241m1\u001b[39m],[\u001b[38;5;241m2\u001b[39m,\u001b[38;5;241m7\u001b[39m,\u001b[38;5;241m2\u001b[39m],[\u001b[38;5;241m2\u001b[39m,\u001b[38;5;241m2\u001b[39m,\u001b[38;5;241m5\u001b[39m]])\n\u001b[1;32m      3\u001b[0m b\u001b[38;5;241m=\u001b[39mnp\u001b[38;5;241m.\u001b[39marray([\u001b[38;5;241m30\u001b[39m,\u001b[38;5;241m22\u001b[39m,\u001b[38;5;241m21\u001b[39m])\n\u001b[1;32m      4\u001b[0m x0 \u001b[38;5;241m=\u001b[39m np\u001b[38;5;241m.\u001b[39marray([\u001b[38;5;241m1.1\u001b[39m,\u001b[38;5;241m2.1\u001b[39m,\u001b[38;5;241m3.1\u001b[39m])\n",
      "\u001b[0;31mNameError\u001b[0m: name 'np' is not defined"
     ]
    }
   ],
   "source": [
    "#Convergence test and input data:\n",
    "A=np.array([[9,9,1],[2,7,2],[2,2,5]])\n",
    "b=np.array([30,22,21])\n",
    "x0 = np.array([1.1,2.1,3.1])\n",
    "        \n",
    "def convergence_test(A):\n",
    "    '''calculate the spectral radius from matrix A, print \n",
    "    result and return statement about convergence'''\n",
    "    D = np.diag(np.diag(A))\n",
    "    R = A-D\n",
    "    T = np.dot(-inv(D),R)\n",
    "    spectral_radius = max(abs(eigvals(T)))\n",
    "    string = ''\n",
    "    \n",
    "    if spectral_radius < 1:\n",
    "        string += f'spectral radius = {spectral_radius} < 1  hence => Convergence'\n",
    "    else:\n",
    "        string += f'spectral radius = {spectral_radius} >= 1 hence => Divergeence'\n",
    "    print(string)\n",
    "\n",
    "convergence_test(A)"
   ]
  },
  {
   "cell_type": "code",
   "execution_count": 4,
   "id": "a493c0fb",
   "metadata": {},
   "outputs": [
    {
     "data": {
      "text/html": [
       "<div>\n",
       "<style scoped>\n",
       "    .dataframe tbody tr th:only-of-type {\n",
       "        vertical-align: middle;\n",
       "    }\n",
       "\n",
       "    .dataframe tbody tr th {\n",
       "        vertical-align: top;\n",
       "    }\n",
       "\n",
       "    .dataframe thead th {\n",
       "        text-align: right;\n",
       "    }\n",
       "</style>\n",
       "<table border=\"1\" class=\"dataframe\">\n",
       "  <thead>\n",
       "    <tr style=\"text-align: right;\">\n",
       "      <th></th>\n",
       "      <th>X_c</th>\n",
       "      <th>e_norm</th>\n",
       "      <th>x_norm</th>\n",
       "    </tr>\n",
       "  </thead>\n",
       "  <tbody>\n",
       "    <tr>\n",
       "      <th>0</th>\n",
       "      <td>[0.8888888888888884, 1.9428571428571426, 2.92]</td>\n",
       "      <td>1.594286e+00</td>\n",
       "      <td>2.920000</td>\n",
       "    </tr>\n",
       "    <tr>\n",
       "      <th>1</th>\n",
       "      <td>[1.0660317460317463, 2.0546031746031748, 3.067...</td>\n",
       "      <td>1.153016e+00</td>\n",
       "      <td>3.067302</td>\n",
       "    </tr>\n",
       "    <tr>\n",
       "      <th>2</th>\n",
       "      <td>[0.9379188712522044, 1.9619047619047614, 2.951...</td>\n",
       "      <td>9.498413e-01</td>\n",
       "      <td>2.951746</td>\n",
       "    </tr>\n",
       "    <tr>\n",
       "      <th>3</th>\n",
       "      <td>[1.0434567901234573, 2.0315243134290752, 3.040...</td>\n",
       "      <td>7.149005e-01</td>\n",
       "      <td>3.040071</td>\n",
       "    </tr>\n",
       "    <tr>\n",
       "      <th>4</th>\n",
       "      <td>[0.9640234036001232, 1.9761350466112368, 2.970...</td>\n",
       "      <td>5.685664e-01</td>\n",
       "      <td>2.970008</td>\n",
       "    </tr>\n",
       "    <tr>\n",
       "      <th>...</th>\n",
       "      <td>...</td>\n",
       "      <td>...</td>\n",
       "      <td>...</td>\n",
       "    </tr>\n",
       "    <tr>\n",
       "      <th>95</th>\n",
       "      <td>[1.000000000004951, 2.0000000000033826, 3.0000...</td>\n",
       "      <td>7.927881e-11</td>\n",
       "      <td>3.000000</td>\n",
       "    </tr>\n",
       "    <tr>\n",
       "      <th>96</th>\n",
       "      <td>[0.9999999999961421, 1.9999999999973632, 2.999...</td>\n",
       "      <td>6.178524e-11</td>\n",
       "      <td>3.000000</td>\n",
       "    </tr>\n",
       "    <tr>\n",
       "      <th>97</th>\n",
       "      <td>[1.0000000000030072, 2.0000000000020544, 3.000...</td>\n",
       "      <td>4.814993e-11</td>\n",
       "      <td>3.000000</td>\n",
       "    </tr>\n",
       "    <tr>\n",
       "      <th>98</th>\n",
       "      <td>[0.9999999999976571, 1.9999999999983984, 2.999...</td>\n",
       "      <td>3.752376e-11</td>\n",
       "      <td>3.000000</td>\n",
       "    </tr>\n",
       "    <tr>\n",
       "      <th>99</th>\n",
       "      <td>[1.0000000000018265, 2.000000000001248, 3.0000...</td>\n",
       "      <td>2.924594e-11</td>\n",
       "      <td>3.000000</td>\n",
       "    </tr>\n",
       "  </tbody>\n",
       "</table>\n",
       "<p>100 rows × 3 columns</p>\n",
       "</div>"
      ],
      "text/plain": [
       "                                                  X_c        e_norm    x_norm\n",
       "0      [0.8888888888888884, 1.9428571428571426, 2.92]  1.594286e+00  2.920000\n",
       "1   [1.0660317460317463, 2.0546031746031748, 3.067...  1.153016e+00  3.067302\n",
       "2   [0.9379188712522044, 1.9619047619047614, 2.951...  9.498413e-01  2.951746\n",
       "3   [1.0434567901234573, 2.0315243134290752, 3.040...  7.149005e-01  3.040071\n",
       "4   [0.9640234036001232, 1.9761350466112368, 2.970...  5.685664e-01  2.970008\n",
       "..                                                ...           ...       ...\n",
       "95  [1.000000000004951, 2.0000000000033826, 3.0000...  7.927881e-11  3.000000\n",
       "96  [0.9999999999961421, 1.9999999999973632, 2.999...  6.178524e-11  3.000000\n",
       "97  [1.0000000000030072, 2.0000000000020544, 3.000...  4.814993e-11  3.000000\n",
       "98  [0.9999999999976571, 1.9999999999983984, 2.999...  3.752376e-11  3.000000\n",
       "99  [1.0000000000018265, 2.000000000001248, 3.0000...  2.924594e-11  3.000000\n",
       "\n",
       "[100 rows x 3 columns]"
      ]
     },
     "execution_count": 4,
     "metadata": {},
     "output_type": "execute_result"
    }
   ],
   "source": [
    "#Jacobi n=100 (steps):\n",
    "J_n100 = jacobi(A=A,x=x0,b=b,n=100)\n",
    "J_n100"
   ]
  },
  {
   "cell_type": "code",
   "execution_count": 5,
   "id": "c0fcf96b",
   "metadata": {},
   "outputs": [
    {
     "data": {
      "text/html": [
       "<div>\n",
       "<style scoped>\n",
       "    .dataframe tbody tr th:only-of-type {\n",
       "        vertical-align: middle;\n",
       "    }\n",
       "\n",
       "    .dataframe tbody tr th {\n",
       "        vertical-align: top;\n",
       "    }\n",
       "\n",
       "    .dataframe thead th {\n",
       "        text-align: right;\n",
       "    }\n",
       "</style>\n",
       "<table border=\"1\" class=\"dataframe\">\n",
       "  <thead>\n",
       "    <tr style=\"text-align: right;\">\n",
       "      <th></th>\n",
       "      <th>X_c</th>\n",
       "      <th>e_norm</th>\n",
       "      <th>x_norm</th>\n",
       "    </tr>\n",
       "  </thead>\n",
       "  <tbody>\n",
       "    <tr>\n",
       "      <th>0</th>\n",
       "      <td>[0.8888888888888884, 1.9428571428571426, 2.92]</td>\n",
       "      <td>1.594286e+00</td>\n",
       "      <td>2.920000</td>\n",
       "    </tr>\n",
       "    <tr>\n",
       "      <th>1</th>\n",
       "      <td>[1.0660317460317463, 2.0546031746031748, 3.067...</td>\n",
       "      <td>1.153016e+00</td>\n",
       "      <td>3.067302</td>\n",
       "    </tr>\n",
       "    <tr>\n",
       "      <th>2</th>\n",
       "      <td>[0.9379188712522044, 1.9619047619047614, 2.951...</td>\n",
       "      <td>9.498413e-01</td>\n",
       "      <td>2.951746</td>\n",
       "    </tr>\n",
       "    <tr>\n",
       "      <th>3</th>\n",
       "      <td>[1.0434567901234573, 2.0315243134290752, 3.040...</td>\n",
       "      <td>7.149005e-01</td>\n",
       "      <td>3.040071</td>\n",
       "    </tr>\n",
       "    <tr>\n",
       "      <th>4</th>\n",
       "      <td>[0.9640234036001232, 1.9761350466112368, 2.970...</td>\n",
       "      <td>5.685664e-01</td>\n",
       "      <td>2.970008</td>\n",
       "    </tr>\n",
       "    <tr>\n",
       "      <th>...</th>\n",
       "      <td>...</td>\n",
       "      <td>...</td>\n",
       "      <td>...</td>\n",
       "    </tr>\n",
       "    <tr>\n",
       "      <th>93</th>\n",
       "      <td>[1.0000000000081506, 2.0000000000055693, 3.000...</td>\n",
       "      <td>1.305231e-10</td>\n",
       "      <td>3.000000</td>\n",
       "    </tr>\n",
       "    <tr>\n",
       "      <th>94</th>\n",
       "      <td>[0.9999999999936481, 1.999999999995659, 2.9999...</td>\n",
       "      <td>1.017249e-10</td>\n",
       "      <td>3.000000</td>\n",
       "    </tr>\n",
       "    <tr>\n",
       "      <th>95</th>\n",
       "      <td>[1.000000000004951, 2.0000000000033826, 3.0000...</td>\n",
       "      <td>7.927881e-11</td>\n",
       "      <td>3.000000</td>\n",
       "    </tr>\n",
       "    <tr>\n",
       "      <th>96</th>\n",
       "      <td>[0.9999999999961421, 1.9999999999973632, 2.999...</td>\n",
       "      <td>6.178524e-11</td>\n",
       "      <td>3.000000</td>\n",
       "    </tr>\n",
       "    <tr>\n",
       "      <th>97</th>\n",
       "      <td>[1.0000000000030072, 2.0000000000020544, 3.000...</td>\n",
       "      <td>4.814993e-11</td>\n",
       "      <td>3.000000</td>\n",
       "    </tr>\n",
       "  </tbody>\n",
       "</table>\n",
       "<p>98 rows × 3 columns</p>\n",
       "</div>"
      ],
      "text/plain": [
       "                                                  X_c        e_norm    x_norm\n",
       "0      [0.8888888888888884, 1.9428571428571426, 2.92]  1.594286e+00  2.920000\n",
       "1   [1.0660317460317463, 2.0546031746031748, 3.067...  1.153016e+00  3.067302\n",
       "2   [0.9379188712522044, 1.9619047619047614, 2.951...  9.498413e-01  2.951746\n",
       "3   [1.0434567901234573, 2.0315243134290752, 3.040...  7.149005e-01  3.040071\n",
       "4   [0.9640234036001232, 1.9761350466112368, 2.970...  5.685664e-01  2.970008\n",
       "..                                                ...           ...       ...\n",
       "93  [1.0000000000081506, 2.0000000000055693, 3.000...  1.305231e-10  3.000000\n",
       "94  [0.9999999999936481, 1.999999999995659, 2.9999...  1.017249e-10  3.000000\n",
       "95  [1.000000000004951, 2.0000000000033826, 3.0000...  7.927881e-11  3.000000\n",
       "96  [0.9999999999961421, 1.9999999999973632, 2.999...  6.178524e-11  3.000000\n",
       "97  [1.0000000000030072, 2.0000000000020544, 3.000...  4.814993e-11  3.000000\n",
       "\n",
       "[98 rows x 3 columns]"
      ]
     },
     "execution_count": 5,
     "metadata": {},
     "output_type": "execute_result"
    }
   ],
   "source": [
    "#Jacobi method with 10 digits accuracy:\n",
    "\n",
    "J = jacobi(A=A,x=x0,b=b,n=200, tol=0.5e-10)\n",
    "J"
   ]
  },
  {
   "cell_type": "code",
   "execution_count": 6,
   "id": "eed266a9",
   "metadata": {},
   "outputs": [
    {
     "data": {
      "text/plain": [
       "<AxesSubplot:title={'center':'log plot of Error norm of Jacobi'}>"
      ]
     },
     "execution_count": 6,
     "metadata": {},
     "output_type": "execute_result"
    },
    {
     "data": {
      "image/png": "[encoded data removed]",
      "text/plain": [
       "<Figure size 432x288 with 1 Axes>"
      ]
     },
     "metadata": {
      "needs_background": "light"
     },
     "output_type": "display_data"
    }
   ],
   "source": [
    "J['e_norm'].plot(title='log plot of Error norm of Jacobi tol=0.5e-10', grid=True, logy=True)"
   ]
  },
  {
   "cell_type": "code",
   "execution_count": 15,
   "id": "ab97b4c6",
   "metadata": {},
   "outputs": [
    {
     "data": {
      "text/plain": [
       "<AxesSubplot:title={'center':'log plot of X norm of Jacobi n=100'}>"
      ]
     },
     "execution_count": 15,
     "metadata": {},
     "output_type": "execute_result"
    },
    {
     "data": {
      "image/png": "[encoded data removed]",
      "text/plain": [
       "<Figure size 432x288 with 1 Axes>"
      ]
     },
     "metadata": {
      "needs_background": "light"
     },
     "output_type": "display_data"
    }
   ],
   "source": [
    "J['x_norm'].plot(title='log plot of X norm of Jacobi n=100', grid=True, xlim=(0,40))"
   ]
  },
  {
   "cell_type": "code",
   "execution_count": 8,
   "id": "2657f898",
   "metadata": {},
   "outputs": [
    {
     "data": {
      "text/html": [
       "<div>\n",
       "<style scoped>\n",
       "    .dataframe tbody tr th:only-of-type {\n",
       "        vertical-align: middle;\n",
       "    }\n",
       "\n",
       "    .dataframe tbody tr th {\n",
       "        vertical-align: top;\n",
       "    }\n",
       "\n",
       "    .dataframe thead th {\n",
       "        text-align: right;\n",
       "    }\n",
       "</style>\n",
       "<table border=\"1\" class=\"dataframe\">\n",
       "  <thead>\n",
       "    <tr style=\"text-align: right;\">\n",
       "      <th></th>\n",
       "      <th>X_c</th>\n",
       "      <th>e_norm</th>\n",
       "      <th>x_norm</th>\n",
       "    </tr>\n",
       "  </thead>\n",
       "  <tbody>\n",
       "    <tr>\n",
       "      <th>0</th>\n",
       "      <td>[1.0146031746031743, 1.9942857142857144, 2.92]</td>\n",
       "      <td>3.822222e-01</td>\n",
       "      <td>2.920000</td>\n",
       "    </tr>\n",
       "    <tr>\n",
       "      <th>1</th>\n",
       "      <td>[1.0035515243134288, 1.9968435374149662, 2.996...</td>\n",
       "      <td>2.210330e-02</td>\n",
       "      <td>2.996444</td>\n",
       "    </tr>\n",
       "    <tr>\n",
       "      <th>2</th>\n",
       "      <td>[1.0009871296196313, 1.9990304286794085, 2.999...</td>\n",
       "      <td>5.128789e-03</td>\n",
       "      <td>2.999842</td>\n",
       "    </tr>\n",
       "    <tr>\n",
       "      <th>3</th>\n",
       "      <td>[1.000280810740279, 1.999719969628567, 2.99999...</td>\n",
       "      <td>1.412638e-03</td>\n",
       "      <td>2.999993</td>\n",
       "    </tr>\n",
       "    <tr>\n",
       "      <th>4</th>\n",
       "      <td>[1.0000801771381285, 1.9999198575449313, 2.999...</td>\n",
       "      <td>4.012672e-04</td>\n",
       "      <td>3.000000</td>\n",
       "    </tr>\n",
       "    <tr>\n",
       "      <th>5</th>\n",
       "      <td>[1.0000229053314418, 1.9999770962100274, 2.999...</td>\n",
       "      <td>1.145436e-04</td>\n",
       "      <td>3.000000</td>\n",
       "    </tr>\n",
       "    <tr>\n",
       "      <th>6</th>\n",
       "      <td>[1.0000065442727535, 1.9999934557957562, 2.999...</td>\n",
       "      <td>3.272212e-05</td>\n",
       "      <td>3.000000</td>\n",
       "    </tr>\n",
       "    <tr>\n",
       "      <th>7</th>\n",
       "      <td>[1.0000018697874309, 1.9999981302156142, 2.999...</td>\n",
       "      <td>9.348971e-06</td>\n",
       "      <td>3.000000</td>\n",
       "    </tr>\n",
       "    <tr>\n",
       "      <th>8</th>\n",
       "      <td>[1.0000005342247675, 1.9999994657753677, 2.999...</td>\n",
       "      <td>2.671125e-06</td>\n",
       "      <td>3.000000</td>\n",
       "    </tr>\n",
       "    <tr>\n",
       "      <th>9</th>\n",
       "      <td>[1.0000001526356384, 1.9999998473643676, 2.999...</td>\n",
       "      <td>7.631783e-07</td>\n",
       "      <td>3.000000</td>\n",
       "    </tr>\n",
       "    <tr>\n",
       "      <th>10</th>\n",
       "      <td>[1.0000000436101821, 1.999999956389818, 2.9999...</td>\n",
       "      <td>2.180509e-07</td>\n",
       "      <td>3.000000</td>\n",
       "    </tr>\n",
       "    <tr>\n",
       "      <th>11</th>\n",
       "      <td>[1.000000012460052, 1.999999987539948, 3.0]</td>\n",
       "      <td>6.230026e-08</td>\n",
       "      <td>3.000000</td>\n",
       "    </tr>\n",
       "    <tr>\n",
       "      <th>12</th>\n",
       "      <td>[1.000000003560015, 1.999999996439985, 3.0]</td>\n",
       "      <td>1.780008e-08</td>\n",
       "      <td>3.000000</td>\n",
       "    </tr>\n",
       "    <tr>\n",
       "      <th>13</th>\n",
       "      <td>[1.000000001017147, 1.999999998982853, 3.0]</td>\n",
       "      <td>5.085735e-09</td>\n",
       "      <td>3.000000</td>\n",
       "    </tr>\n",
       "    <tr>\n",
       "      <th>14</th>\n",
       "      <td>[1.0000000002906135, 1.9999999997093865, 3.0]</td>\n",
       "      <td>1.453067e-09</td>\n",
       "      <td>3.000000</td>\n",
       "    </tr>\n",
       "    <tr>\n",
       "      <th>15</th>\n",
       "      <td>[1.0000000000830325, 1.9999999999169675, 3.0]</td>\n",
       "      <td>4.151630e-10</td>\n",
       "      <td>3.000000</td>\n",
       "    </tr>\n",
       "    <tr>\n",
       "      <th>16</th>\n",
       "      <td>[1.0000000000237235, 1.9999999999762765, 3.0]</td>\n",
       "      <td>1.186180e-10</td>\n",
       "      <td>3.000000</td>\n",
       "    </tr>\n",
       "    <tr>\n",
       "      <th>17</th>\n",
       "      <td>[1.0000000000067781, 1.9999999999932219, 3.0]</td>\n",
       "      <td>3.388934e-11</td>\n",
       "      <td>3.000000</td>\n",
       "    </tr>\n",
       "  </tbody>\n",
       "</table>\n",
       "</div>"
      ],
      "text/plain": [
       "                                                  X_c        e_norm    x_norm\n",
       "0      [1.0146031746031743, 1.9942857142857144, 2.92]  3.822222e-01  2.920000\n",
       "1   [1.0035515243134288, 1.9968435374149662, 2.996...  2.210330e-02  2.996444\n",
       "2   [1.0009871296196313, 1.9990304286794085, 2.999...  5.128789e-03  2.999842\n",
       "3   [1.000280810740279, 1.999719969628567, 2.99999...  1.412638e-03  2.999993\n",
       "4   [1.0000801771381285, 1.9999198575449313, 2.999...  4.012672e-04  3.000000\n",
       "5   [1.0000229053314418, 1.9999770962100274, 2.999...  1.145436e-04  3.000000\n",
       "6   [1.0000065442727535, 1.9999934557957562, 2.999...  3.272212e-05  3.000000\n",
       "7   [1.0000018697874309, 1.9999981302156142, 2.999...  9.348971e-06  3.000000\n",
       "8   [1.0000005342247675, 1.9999994657753677, 2.999...  2.671125e-06  3.000000\n",
       "9   [1.0000001526356384, 1.9999998473643676, 2.999...  7.631783e-07  3.000000\n",
       "10  [1.0000000436101821, 1.999999956389818, 2.9999...  2.180509e-07  3.000000\n",
       "11        [1.000000012460052, 1.999999987539948, 3.0]  6.230026e-08  3.000000\n",
       "12        [1.000000003560015, 1.999999996439985, 3.0]  1.780008e-08  3.000000\n",
       "13        [1.000000001017147, 1.999999998982853, 3.0]  5.085735e-09  3.000000\n",
       "14      [1.0000000002906135, 1.9999999997093865, 3.0]  1.453067e-09  3.000000\n",
       "15      [1.0000000000830325, 1.9999999999169675, 3.0]  4.151630e-10  3.000000\n",
       "16      [1.0000000000237235, 1.9999999999762765, 3.0]  1.186180e-10  3.000000\n",
       "17      [1.0000000000067781, 1.9999999999932219, 3.0]  3.388934e-11  3.000000"
      ]
     },
     "execution_count": 8,
     "metadata": {},
     "output_type": "execute_result"
    }
   ],
   "source": [
    "#Gauss Seidel with 10 digits accuracy:\n",
    "G=gaus_seidel_backsub(A=A,x=x0,b=b,n=200, tol=0.5e-10)\n",
    "G"
   ]
  },
  {
   "cell_type": "code",
   "execution_count": 12,
   "id": "e4c6af0a",
   "metadata": {},
   "outputs": [
    {
     "data": {
      "text/plain": [
       "<AxesSubplot:title={'center':'log plot of Error norm of GS  tol=0.5e-10'}>"
      ]
     },
     "execution_count": 12,
     "metadata": {},
     "output_type": "execute_result"
    },
    {
     "data": {
      "image/png": "[encoded data removed]",
      "text/plain": [
       "<Figure size 432x288 with 1 Axes>"
      ]
     },
     "metadata": {
      "needs_background": "light"
     },
     "output_type": "display_data"
    }
   ],
   "source": [
    "G['e_norm'].plot(title='log plot of Error norm of GS  tol=0.5e-10', grid=True, logy=True)"
   ]
  },
  {
   "cell_type": "code",
   "execution_count": 11,
   "id": "9247db32",
   "metadata": {},
   "outputs": [
    {
     "data": {
      "text/plain": [
       "<AxesSubplot:title={'center':'log plot of X norm of GS  tol=0.5e-10'}>"
      ]
     },
     "execution_count": 11,
     "metadata": {},
     "output_type": "execute_result"
    },
    {
     "data": {
      "image/png": "[encoded data removed]",
      "text/plain": [
       "<Figure size 432x288 with 1 Axes>"
      ]
     },
     "metadata": {
      "needs_background": "light"
     },
     "output_type": "display_data"
    }
   ],
   "source": [
    "G['x_norm'].plot(title='log plot of X norm of GS  tol=0.5e-10', grid=True, xlim=(0,18))"
   ]
  },
  {
   "cell_type": "code",
   "execution_count": null,
   "id": "9fb7aa73",
   "metadata": {},
   "outputs": [],
   "source": []
  },
  {
   "cell_type": "code",
   "execution_count": null,
   "id": "0eecf01b",
   "metadata": {},
   "outputs": [],
   "source": []
  }
 ],
 "metadata": {
  "kernelspec": {
   "display_name": "Python 3 (ipykernel)",
   "language": "python",
   "name": "python3"
  },
  "language_info": {
   "codemirror_mode": {
    "name": "ipython",
    "version": 3
   },
   "file_extension": ".py",
   "mimetype": "text/x-python",
   "name": "python",
   "nbconvert_exporter": "python",
   "pygments_lexer": "ipython3",
   "version": "3.10.2"
  }
 },
 "nbformat": 4,
 "nbformat_minor": 5
}
